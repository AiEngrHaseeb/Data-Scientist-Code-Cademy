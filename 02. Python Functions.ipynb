{
 "cells": [
  {
   "cell_type": "markdown",
   "metadata": {},
   "source": [
    "## What is a Function?\n"
   ]
  },
  {
   "cell_type": "code",
   "execution_count": 1,
   "metadata": {},
   "outputs": [
    {
     "name": "stdout",
     "output_type": "stream",
     "text": [
      "You may say I'm a dreamer\n",
      "But I'm not the only one\n",
      "I hope some day you'll join us\n",
      "And the world will be as one\n",
      "You may say I'm a dreamer\n",
      "But I'm not the only one\n",
      "I hope some day you'll join us\n",
      "And the world will be as one\n"
     ]
    }
   ],
   "source": [
    "def sing_song():\n",
    "  print(\"You may say I'm a dreamer\")\n",
    "  print(\"But I'm not the only one\")\n",
    "  print(\"I hope some day you'll join us\")\n",
    "  print(\"And the world will be as one\")\n",
    "  \n",
    "# call sing_song() below:\n",
    "sing_song()\n",
    "sing_song()"
   ]
  },
  {
   "cell_type": "markdown",
   "metadata": {},
   "source": [
    "## Write a Function\n"
   ]
  },
  {
   "cell_type": "code",
   "execution_count": 2,
   "metadata": {},
   "outputs": [
    {
     "name": "stdout",
     "output_type": "stream",
     "text": [
      "This page is loading...\n"
     ]
    }
   ],
   "source": [
    "def loading_screen():\n",
    "  print(\"This page is loading...\")\n",
    "\n",
    "loading_screen()"
   ]
  },
  {
   "cell_type": "markdown",
   "metadata": {},
   "source": [
    "## Whitespace\n"
   ]
  },
  {
   "cell_type": "code",
   "execution_count": 3,
   "metadata": {},
   "outputs": [
    {
     "name": "stdout",
     "output_type": "stream",
     "text": [
      "Cleanup on Aisle 6\n",
      "Welcome to Engrossing Grocers.\n",
      "Our special is mandarin oranges.\n",
      "Have fun shopping!\n",
      "Welcome to Engrossing Grocers.\n",
      "Our special is mandarin oranges.\n",
      "Have fun shopping!\n"
     ]
    }
   ],
   "source": [
    "def greet_customer():\n",
    "  print(\"Welcome to Engrossing Grocers.\")\n",
    "  print(\"Our special is mandarin oranges.\")\n",
    "  print(\"Have fun shopping!\")\n",
    "print(\"Cleanup on Aisle 6\")\n",
    "greet_customer()\n",
    "greet_customer()"
   ]
  },
  {
   "cell_type": "markdown",
   "metadata": {},
   "source": [
    "## Parameters"
   ]
  },
  {
   "cell_type": "code",
   "execution_count": 5,
   "metadata": {},
   "outputs": [
    {
     "name": "stdout",
     "output_type": "stream",
     "text": [
      "Welcome to Engrossing Grocers.\n",
      "Our special is peanut butter.\n",
      "Have fun shopping!\n",
      "--------------------------------------------\n",
      "3\n"
     ]
    }
   ],
   "source": [
    "def greet_customer(special_item):\n",
    "  print(\"Welcome to Engrossing Grocers.\")\n",
    "  print(\"Our special is \" + special_item + \".\")\n",
    "  print(\"Have fun shopping!\")\n",
    "greet_customer(\"peanut butter\")\n",
    "\n",
    "print(\"--------------------------------------------\")\n",
    "def mult_two_add_three(number):\n",
    "  print(number*2 + 3)\n",
    "  \n",
    "# Call mult_two_add_three() here:\n",
    "mult_two_add_three(0)"
   ]
  },
  {
   "cell_type": "markdown",
   "metadata": {},
   "source": [
    "## Multiple Parameters\n"
   ]
  },
  {
   "cell_type": "code",
   "execution_count": 6,
   "metadata": {},
   "outputs": [
    {
     "name": "stdout",
     "output_type": "stream",
     "text": [
      "Welcome to Stu's Staples.\n",
      "Our special is papayas.\n",
      "Have fun shopping!\n",
      "----------------------------------------------\n",
      "4\n"
     ]
    }
   ],
   "source": [
    "def greet_customer(grocery_store, special_item):\n",
    "  print(\"Welcome to \"+ grocery_store + \".\")\n",
    "  print(\"Our special is \" + special_item + \".\")\n",
    "  print(\"Have fun shopping!\")\n",
    "greet_customer(\"Stu's Staples\", \"papayas\")\n",
    "print(\"----------------------------------------------\")\n",
    "def mult_x_add_y(number,x,y):\n",
    "  print(number*x + y)\n",
    "  \n",
    "mult_x_add_y(1,3,1)"
   ]
  },
  {
   "cell_type": "markdown",
   "metadata": {},
   "source": [
    "## Keyword Arguments\n"
   ]
  },
  {
   "cell_type": "code",
   "execution_count": 7,
   "metadata": {},
   "outputs": [
    {
     "name": "stdout",
     "output_type": "stream",
     "text": [
      "Welcome to Engrossing Grocers.\n",
      "Our special is bananas.\n",
      "Have fun shopping!\n",
      "-------------------------------------------------------\n",
      "Creating a spreadsheet calledApplication with 10 rows\n"
     ]
    }
   ],
   "source": [
    "def greet_customer(special_item, grocery_store=\"Engrossing Grocers\"):\n",
    "  print(\"Welcome to \"+ grocery_store + \".\")\n",
    "  print(\"Our special is \" + special_item + \".\")\n",
    "  print(\"Have fun shopping!\")\n",
    "greet_customer(\"bananas\")\n",
    "\n",
    "print(\"-------------------------------------------------------\")\n",
    "\n",
    "# Define create_spreadsheet():\n",
    "def create_spreadsheet(title,row_count = 10):\n",
    "  print(\"Creating a spreadsheet called\"+ title+\" with \"+str(row_count) +\" rows\")\n",
    "\n",
    "# Call create_spreadsheet() below with the required arguments:\n",
    "create_spreadsheet(\"Application\")"
   ]
  },
  {
   "cell_type": "markdown",
   "metadata": {},
   "source": [
    "## Returns\n"
   ]
  },
  {
   "cell_type": "code",
   "execution_count": 8,
   "metadata": {},
   "outputs": [
    {
     "name": "stdout",
     "output_type": "stream",
     "text": [
      "16 divided by 4 is 4.0!\n",
      "4.0 divided by 4 is 1.0!\n",
      "======================================\n",
      "Our special is banana yogurt.\n",
      "======================================\n",
      "I am 56 years old and my dad is 96 years old\n"
     ]
    }
   ],
   "source": [
    "def divide_by_four(input_number):\n",
    "  return input_number/4\n",
    "result = divide_by_four(16)\n",
    "# result now holds 4\n",
    "print(\"16 divided by 4 is \" + str(result) + \"!\")\n",
    "result2 = divide_by_four(result)\n",
    "print(str(result) + \" divided by 4 is \" + str(result2) + \"!\")\n",
    "\n",
    "print(\"======================================\")\n",
    "def create_special_string(special_item):\n",
    "  return \"Our special is \" + special_item + \".\"\n",
    "\n",
    "special_string = create_special_string(\"banana yogurt\")\n",
    "\n",
    "print(special_string)\n",
    "\n",
    "print(\"======================================\")\n",
    "def calculate_age(current_year, birth_year):\n",
    "  age = current_year - birth_year\n",
    "  return age\n",
    "my_age = calculate_age(2049,1993)\n",
    "dads_age = calculate_age(2049,1953)\n",
    "print(\"I am \"+str(my_age)+\" years old and my dad is \"+str(dads_age)+\" years old\")"
   ]
  },
  {
   "cell_type": "markdown",
   "metadata": {},
   "source": [
    "## Multiple Return Values\n"
   ]
  },
  {
   "cell_type": "code",
   "execution_count": 14,
   "metadata": {},
   "outputs": [],
   "source": [
    "def get_boundaries(target,margin):\n",
    "  low_limit = target-margin\n",
    "  high_limit = target+margin\n",
    "  return low_limit,high_limit\n",
    "\n",
    "low,high = get_boundaries(100,20)"
   ]
  },
  {
   "cell_type": "markdown",
   "metadata": {},
   "source": [
    "## Scope"
   ]
  },
  {
   "cell_type": "code",
   "execution_count": 13,
   "metadata": {},
   "outputs": [
    {
     "name": "stdout",
     "output_type": "stream",
     "text": [
      "78\n"
     ]
    }
   ],
   "source": [
    "current_year = 2048\n",
    "def calculate_age(birth_year):\n",
    "  age = current_year - birth_year\n",
    "  return age\n",
    "print(calculate_age(1970))"
   ]
  },
  {
   "cell_type": "markdown",
   "metadata": {},
   "source": [
    "## Review"
   ]
  },
  {
   "cell_type": "code",
   "execution_count": null,
   "metadata": {},
   "outputs": [],
   "source": [
    "def repeat_stuff(stuff,num_repeats=10):\n",
    "  return stuff*num_repeats\n",
    "\n",
    "lyrics = repeat_stuff(\"Row \",3)+\"Your Boat. \"\n",
    "song = repeat_stuff(lyrics)\n",
    "print(song)"
   ]
  }
 ],
 "metadata": {
  "kernelspec": {
   "display_name": "Python 3",
   "language": "python",
   "name": "python3"
  },
  "language_info": {
   "codemirror_mode": {
    "name": "ipython",
    "version": 3
   },
   "file_extension": ".py",
   "mimetype": "text/x-python",
   "name": "python",
   "nbconvert_exporter": "python",
   "pygments_lexer": "ipython3",
   "version": "3.8.3"
  }
 },
 "nbformat": 4,
 "nbformat_minor": 4
}
